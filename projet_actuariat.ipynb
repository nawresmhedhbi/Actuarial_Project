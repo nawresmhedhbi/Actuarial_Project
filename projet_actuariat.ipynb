{
 "cells": [
  {
   "cell_type": "markdown",
   "metadata": {},
   "source": [
    "### Projet Actuariat\n",
    "### Sujet 1 : Calcule de la valeur actuelle probable d’une rente viagère à termes échus"
   ]
  },
  {
   "cell_type": "markdown",
   "metadata": {},
   "source": [
    "### élaboré par :\n",
    "- Ben Said Mohamed Amine\n",
    "- Bousselmi Mohamed\n",
    "- Hamila Youssef\n",
    "- Kandil Amal\n",
    "- Mhedhbi Nawres"
   ]
  },
  {
   "cell_type": "markdown",
   "metadata": {},
   "source": [
    "### Question 1 : Télécharger les données pour le pays concerné."
   ]
  },
  {
   "cell_type": "code",
   "execution_count": 5,
   "metadata": {},
   "outputs": [],
   "source": [
    "library(demography)\n",
    "library(StMoMo)\n",
    "#install.packages(StMoMo)"
   ]
  },
  {
   "cell_type": "code",
   "execution_count": 6,
   "metadata": {},
   "outputs": [
    {
     "name": "stderr",
     "output_type": "stream",
     "text": [
      "Warning message in hmd.mx(country = \"FRATNP\", username = \"nawres.mhedhbi@esprit.tn\", :\n",
      "\"NAs introduits lors de la conversion automatique\""
     ]
    }
   ],
   "source": [
    "france = hmd.mx(country=\"FRATNP\",username=\"nawres.mhedhbi@esprit.tn\",password=\"1588118533\",label=\"France\")"
   ]
  },
  {
   "cell_type": "markdown",
   "metadata": {},
   "source": [
    "### - Analyse des données:"
   ]
  },
  {
   "cell_type": "code",
   "execution_count": 21,
   "metadata": {},
   "outputs": [
    {
     "name": "stdout",
     "output_type": "stream",
     "text": [
      "Mortality data for France\n",
      "    Series: female male total\n",
      "    Years: 1816 - 2017\n",
      "    Ages:  0 - 110 \n"
     ]
    }
   ],
   "source": [
    "print(france)"
   ]
  },
  {
   "cell_type": "markdown",
   "metadata": {},
   "source": [
    "- Notre base de données contient les taux de mortalité des femmes , hommes et de la population totale de l'année 1816 jusqu'au 2017 de l'âge 0 a l'âge 110."
   ]
  },
  {
   "cell_type": "code",
   "execution_count": 19,
   "metadata": {},
   "outputs": [
    {
     "data": {
      "text/html": [
       "<ol class=list-inline>\n",
       "\t<li>'type'</li>\n",
       "\t<li>'label'</li>\n",
       "\t<li>'lambda'</li>\n",
       "\t<li>'year'</li>\n",
       "\t<li>'age'</li>\n",
       "\t<li>'pop'</li>\n",
       "\t<li>'rate'</li>\n",
       "</ol>\n"
      ],
      "text/latex": [
       "\\begin{enumerate*}\n",
       "\\item 'type'\n",
       "\\item 'label'\n",
       "\\item 'lambda'\n",
       "\\item 'year'\n",
       "\\item 'age'\n",
       "\\item 'pop'\n",
       "\\item 'rate'\n",
       "\\end{enumerate*}\n"
      ],
      "text/markdown": [
       "1. 'type'\n",
       "2. 'label'\n",
       "3. 'lambda'\n",
       "4. 'year'\n",
       "5. 'age'\n",
       "6. 'pop'\n",
       "7. 'rate'\n",
       "\n",
       "\n"
      ],
      "text/plain": [
       "[1] \"type\"   \"label\"  \"lambda\" \"year\"   \"age\"    \"pop\"    \"rate\"  "
      ]
     },
     "metadata": {},
     "output_type": "display_data"
    }
   ],
   "source": [
    "names(france) "
   ]
  },
  {
   "cell_type": "markdown",
   "metadata": {},
   "source": [
    "La classe demogdata est  une liste de 7 éléments contenant notamment des listes de 3 éléments sur la population homme, femme et totale"
   ]
  },
  {
   "cell_type": "code",
   "execution_count": 22,
   "metadata": {},
   "outputs": [
    {
     "data": {
      "text/html": [
       "<dl class=dl-horizontal>\n",
       "\t<dt>0</dt>\n",
       "\t\t<dd>0.060585</dd>\n",
       "\t<dt>1</dt>\n",
       "\t\t<dd>0.005224</dd>\n",
       "\t<dt>2</dt>\n",
       "\t\t<dd>0.001988</dd>\n",
       "\t<dt>3</dt>\n",
       "\t\t<dd>0.001334</dd>\n",
       "\t<dt>4</dt>\n",
       "\t\t<dd>0.001071</dd>\n",
       "\t<dt>5</dt>\n",
       "\t\t<dd>0.000916</dd>\n",
       "\t<dt>6</dt>\n",
       "\t\t<dd>0.000772</dd>\n",
       "\t<dt>7</dt>\n",
       "\t\t<dd>0.000753</dd>\n",
       "\t<dt>8</dt>\n",
       "\t\t<dd>0.00069</dd>\n",
       "\t<dt>9</dt>\n",
       "\t\t<dd>0.000692</dd>\n",
       "\t<dt>10</dt>\n",
       "\t\t<dd>0.000604</dd>\n",
       "\t<dt>11</dt>\n",
       "\t\t<dd>0.00067</dd>\n",
       "\t<dt>12</dt>\n",
       "\t\t<dd>0.000684</dd>\n",
       "\t<dt>13</dt>\n",
       "\t\t<dd>0.000712</dd>\n",
       "\t<dt>14</dt>\n",
       "\t\t<dd>0.000855</dd>\n",
       "\t<dt>15</dt>\n",
       "\t\t<dd>0.001052</dd>\n",
       "\t<dt>16</dt>\n",
       "\t\t<dd>0.001088</dd>\n",
       "\t<dt>17</dt>\n",
       "\t\t<dd>0.001274</dd>\n",
       "\t<dt>18</dt>\n",
       "\t\t<dd>0.001345</dd>\n",
       "\t<dt>19</dt>\n",
       "\t\t<dd>0.00151</dd>\n",
       "\t<dt>20</dt>\n",
       "\t\t<dd>0.001551</dd>\n",
       "\t<dt>21</dt>\n",
       "\t\t<dd>0.001763</dd>\n",
       "\t<dt>22</dt>\n",
       "\t\t<dd>0.002021</dd>\n",
       "\t<dt>23</dt>\n",
       "\t\t<dd>0.001874</dd>\n",
       "\t<dt>24</dt>\n",
       "\t\t<dd>0.002044</dd>\n",
       "\t<dt>25</dt>\n",
       "\t\t<dd>0.002131</dd>\n",
       "\t<dt>26</dt>\n",
       "\t\t<dd>0.002273</dd>\n",
       "\t<dt>27</dt>\n",
       "\t\t<dd>0.002364</dd>\n",
       "\t<dt>28</dt>\n",
       "\t\t<dd>0.002277</dd>\n",
       "\t<dt>29</dt>\n",
       "\t\t<dd>0.002445</dd>\n",
       "\t<dt>30</dt>\n",
       "\t\t<dd>0.002504</dd>\n",
       "\t<dt>31</dt>\n",
       "\t\t<dd>0.002578</dd>\n",
       "\t<dt>32</dt>\n",
       "\t\t<dd>0.002821</dd>\n",
       "\t<dt>33</dt>\n",
       "\t\t<dd>0.00279</dd>\n",
       "\t<dt>34</dt>\n",
       "\t\t<dd>0.003155</dd>\n",
       "\t<dt>35</dt>\n",
       "\t\t<dd>0.003121</dd>\n",
       "\t<dt>36</dt>\n",
       "\t\t<dd>0.003167</dd>\n",
       "\t<dt>37</dt>\n",
       "\t\t<dd>0.003668</dd>\n",
       "\t<dt>38</dt>\n",
       "\t\t<dd>0.00377</dd>\n",
       "\t<dt>39</dt>\n",
       "\t\t<dd>0.004271</dd>\n",
       "\t<dt>40</dt>\n",
       "\t\t<dd>0.004521</dd>\n",
       "\t<dt>41</dt>\n",
       "\t\t<dd>0.004804</dd>\n",
       "\t<dt>42</dt>\n",
       "\t\t<dd>0.005434</dd>\n",
       "\t<dt>43</dt>\n",
       "\t\t<dd>0.005962</dd>\n",
       "\t<dt>44</dt>\n",
       "\t\t<dd>0.006509</dd>\n",
       "\t<dt>45</dt>\n",
       "\t\t<dd>0.007023</dd>\n",
       "\t<dt>46</dt>\n",
       "\t\t<dd>0.007735</dd>\n",
       "\t<dt>47</dt>\n",
       "\t\t<dd>0.008308</dd>\n",
       "\t<dt>48</dt>\n",
       "\t\t<dd>0.008753</dd>\n",
       "\t<dt>49</dt>\n",
       "\t\t<dd>0.00996</dd>\n",
       "\t<dt>50</dt>\n",
       "\t\t<dd>0.011147</dd>\n",
       "\t<dt>51</dt>\n",
       "\t\t<dd>0.011836</dd>\n",
       "\t<dt>52</dt>\n",
       "\t\t<dd>0.012896</dd>\n",
       "\t<dt>53</dt>\n",
       "\t\t<dd>0.013727</dd>\n",
       "\t<dt>54</dt>\n",
       "\t\t<dd>0.014879</dd>\n",
       "\t<dt>55</dt>\n",
       "\t\t<dd>0.015623</dd>\n",
       "\t<dt>56</dt>\n",
       "\t\t<dd>0.017183</dd>\n",
       "\t<dt>57</dt>\n",
       "\t\t<dd>0.018302</dd>\n",
       "\t<dt>58</dt>\n",
       "\t\t<dd>0.019195</dd>\n",
       "\t<dt>59</dt>\n",
       "\t\t<dd>0.021536</dd>\n",
       "\t<dt>60</dt>\n",
       "\t\t<dd>0.022553</dd>\n",
       "\t<dt>61</dt>\n",
       "\t\t<dd>0.024579</dd>\n",
       "\t<dt>62</dt>\n",
       "\t\t<dd>0.026388</dd>\n",
       "\t<dt>63</dt>\n",
       "\t\t<dd>0.029171</dd>\n",
       "\t<dt>64</dt>\n",
       "\t\t<dd>0.031707</dd>\n",
       "\t<dt>65</dt>\n",
       "\t\t<dd>0.034288</dd>\n",
       "\t<dt>66</dt>\n",
       "\t\t<dd>0.037492</dd>\n",
       "\t<dt>67</dt>\n",
       "\t\t<dd>0.040098</dd>\n",
       "\t<dt>68</dt>\n",
       "\t\t<dd>0.044915</dd>\n",
       "\t<dt>69</dt>\n",
       "\t\t<dd>0.047523</dd>\n",
       "\t<dt>70</dt>\n",
       "\t\t<dd>0.052456</dd>\n",
       "\t<dt>71</dt>\n",
       "\t\t<dd>0.05919</dd>\n",
       "\t<dt>72</dt>\n",
       "\t\t<dd>0.064919</dd>\n",
       "\t<dt>73</dt>\n",
       "\t\t<dd>0.069877</dd>\n",
       "\t<dt>74</dt>\n",
       "\t\t<dd>0.077697</dd>\n",
       "\t<dt>75</dt>\n",
       "\t\t<dd>0.084536</dd>\n",
       "\t<dt>76</dt>\n",
       "\t\t<dd>0.094311</dd>\n",
       "\t<dt>77</dt>\n",
       "\t\t<dd>0.103413</dd>\n",
       "\t<dt>78</dt>\n",
       "\t\t<dd>0.111321</dd>\n",
       "\t<dt>79</dt>\n",
       "\t\t<dd>0.124003</dd>\n",
       "\t<dt>80</dt>\n",
       "\t\t<dd>0.138327</dd>\n",
       "\t<dt>81</dt>\n",
       "\t\t<dd>0.149354</dd>\n",
       "\t<dt>82</dt>\n",
       "\t\t<dd>0.165761</dd>\n",
       "\t<dt>83</dt>\n",
       "\t\t<dd>0.183302</dd>\n",
       "\t<dt>84</dt>\n",
       "\t\t<dd>0.196618</dd>\n",
       "\t<dt>85</dt>\n",
       "\t\t<dd>0.215332</dd>\n",
       "\t<dt>86</dt>\n",
       "\t\t<dd>0.233147</dd>\n",
       "\t<dt>87</dt>\n",
       "\t\t<dd>0.254026</dd>\n",
       "\t<dt>88</dt>\n",
       "\t\t<dd>0.284983</dd>\n",
       "\t<dt>89</dt>\n",
       "\t\t<dd>0.295569</dd>\n",
       "\t<dt>90</dt>\n",
       "\t\t<dd>0.325634</dd>\n",
       "\t<dt>91</dt>\n",
       "\t\t<dd>0.33686</dd>\n",
       "\t<dt>92</dt>\n",
       "\t\t<dd>0.397962</dd>\n",
       "\t<dt>93</dt>\n",
       "\t\t<dd>0.408883</dd>\n",
       "\t<dt>94</dt>\n",
       "\t\t<dd>0.465879</dd>\n",
       "\t<dt>95</dt>\n",
       "\t\t<dd>0.422485</dd>\n",
       "\t<dt>96</dt>\n",
       "\t\t<dd>0.460141</dd>\n",
       "\t<dt>97</dt>\n",
       "\t\t<dd>0.431608</dd>\n",
       "\t<dt>98</dt>\n",
       "\t\t<dd>0.446195</dd>\n",
       "\t<dt>99</dt>\n",
       "\t\t<dd>0.611618</dd>\n",
       "\t<dt>100</dt>\n",
       "\t\t<dd>1.091252</dd>\n",
       "\t<dt>101</dt>\n",
       "\t\t<dd>0.956522</dd>\n",
       "\t<dt>102</dt>\n",
       "\t\t<dd>1.2</dd>\n",
       "\t<dt>103</dt>\n",
       "\t\t<dd>0.6</dd>\n",
       "\t<dt>104</dt>\n",
       "\t\t<dd>0</dd>\n",
       "\t<dt>105</dt>\n",
       "\t\t<dd>0</dd>\n",
       "\t<dt>106</dt>\n",
       "\t\t<dd>0</dd>\n",
       "\t<dt>107</dt>\n",
       "\t\t<dd>&lt;NA&gt;</dd>\n",
       "\t<dt>108</dt>\n",
       "\t\t<dd>&lt;NA&gt;</dd>\n",
       "\t<dt>109</dt>\n",
       "\t\t<dd>&lt;NA&gt;</dd>\n",
       "\t<dt>110+</dt>\n",
       "\t\t<dd>&lt;NA&gt;</dd>\n",
       "</dl>\n"
      ],
      "text/latex": [
       "\\begin{description*}\n",
       "\\item[0] 0.060585\n",
       "\\item[1] 0.005224\n",
       "\\item[2] 0.001988\n",
       "\\item[3] 0.001334\n",
       "\\item[4] 0.001071\n",
       "\\item[5] 0.000916\n",
       "\\item[6] 0.000772\n",
       "\\item[7] 0.000753\n",
       "\\item[8] 0.00069\n",
       "\\item[9] 0.000692\n",
       "\\item[10] 0.000604\n",
       "\\item[11] 0.00067\n",
       "\\item[12] 0.000684\n",
       "\\item[13] 0.000712\n",
       "\\item[14] 0.000855\n",
       "\\item[15] 0.001052\n",
       "\\item[16] 0.001088\n",
       "\\item[17] 0.001274\n",
       "\\item[18] 0.001345\n",
       "\\item[19] 0.00151\n",
       "\\item[20] 0.001551\n",
       "\\item[21] 0.001763\n",
       "\\item[22] 0.002021\n",
       "\\item[23] 0.001874\n",
       "\\item[24] 0.002044\n",
       "\\item[25] 0.002131\n",
       "\\item[26] 0.002273\n",
       "\\item[27] 0.002364\n",
       "\\item[28] 0.002277\n",
       "\\item[29] 0.002445\n",
       "\\item[30] 0.002504\n",
       "\\item[31] 0.002578\n",
       "\\item[32] 0.002821\n",
       "\\item[33] 0.00279\n",
       "\\item[34] 0.003155\n",
       "\\item[35] 0.003121\n",
       "\\item[36] 0.003167\n",
       "\\item[37] 0.003668\n",
       "\\item[38] 0.00377\n",
       "\\item[39] 0.004271\n",
       "\\item[40] 0.004521\n",
       "\\item[41] 0.004804\n",
       "\\item[42] 0.005434\n",
       "\\item[43] 0.005962\n",
       "\\item[44] 0.006509\n",
       "\\item[45] 0.007023\n",
       "\\item[46] 0.007735\n",
       "\\item[47] 0.008308\n",
       "\\item[48] 0.008753\n",
       "\\item[49] 0.00996\n",
       "\\item[50] 0.011147\n",
       "\\item[51] 0.011836\n",
       "\\item[52] 0.012896\n",
       "\\item[53] 0.013727\n",
       "\\item[54] 0.014879\n",
       "\\item[55] 0.015623\n",
       "\\item[56] 0.017183\n",
       "\\item[57] 0.018302\n",
       "\\item[58] 0.019195\n",
       "\\item[59] 0.021536\n",
       "\\item[60] 0.022553\n",
       "\\item[61] 0.024579\n",
       "\\item[62] 0.026388\n",
       "\\item[63] 0.029171\n",
       "\\item[64] 0.031707\n",
       "\\item[65] 0.034288\n",
       "\\item[66] 0.037492\n",
       "\\item[67] 0.040098\n",
       "\\item[68] 0.044915\n",
       "\\item[69] 0.047523\n",
       "\\item[70] 0.052456\n",
       "\\item[71] 0.05919\n",
       "\\item[72] 0.064919\n",
       "\\item[73] 0.069877\n",
       "\\item[74] 0.077697\n",
       "\\item[75] 0.084536\n",
       "\\item[76] 0.094311\n",
       "\\item[77] 0.103413\n",
       "\\item[78] 0.111321\n",
       "\\item[79] 0.124003\n",
       "\\item[80] 0.138327\n",
       "\\item[81] 0.149354\n",
       "\\item[82] 0.165761\n",
       "\\item[83] 0.183302\n",
       "\\item[84] 0.196618\n",
       "\\item[85] 0.215332\n",
       "\\item[86] 0.233147\n",
       "\\item[87] 0.254026\n",
       "\\item[88] 0.284983\n",
       "\\item[89] 0.295569\n",
       "\\item[90] 0.325634\n",
       "\\item[91] 0.33686\n",
       "\\item[92] 0.397962\n",
       "\\item[93] 0.408883\n",
       "\\item[94] 0.465879\n",
       "\\item[95] 0.422485\n",
       "\\item[96] 0.460141\n",
       "\\item[97] 0.431608\n",
       "\\item[98] 0.446195\n",
       "\\item[99] 0.611618\n",
       "\\item[100] 1.091252\n",
       "\\item[101] 0.956522\n",
       "\\item[102] 1.2\n",
       "\\item[103] 0.6\n",
       "\\item[104] 0\n",
       "\\item[105] 0\n",
       "\\item[106] 0\n",
       "\\item[107] <NA>\n",
       "\\item[108] <NA>\n",
       "\\item[109] <NA>\n",
       "\\item[110+] <NA>\n",
       "\\end{description*}\n"
      ],
      "text/markdown": [
       "0\n",
       ":   0.0605851\n",
       ":   0.0052242\n",
       ":   0.0019883\n",
       ":   0.0013344\n",
       ":   0.0010715\n",
       ":   0.0009166\n",
       ":   0.0007727\n",
       ":   0.0007538\n",
       ":   0.000699\n",
       ":   0.00069210\n",
       ":   0.00060411\n",
       ":   0.0006712\n",
       ":   0.00068413\n",
       ":   0.00071214\n",
       ":   0.00085515\n",
       ":   0.00105216\n",
       ":   0.00108817\n",
       ":   0.00127418\n",
       ":   0.00134519\n",
       ":   0.0015120\n",
       ":   0.00155121\n",
       ":   0.00176322\n",
       ":   0.00202123\n",
       ":   0.00187424\n",
       ":   0.00204425\n",
       ":   0.00213126\n",
       ":   0.00227327\n",
       ":   0.00236428\n",
       ":   0.00227729\n",
       ":   0.00244530\n",
       ":   0.00250431\n",
       ":   0.00257832\n",
       ":   0.00282133\n",
       ":   0.0027934\n",
       ":   0.00315535\n",
       ":   0.00312136\n",
       ":   0.00316737\n",
       ":   0.00366838\n",
       ":   0.0037739\n",
       ":   0.00427140\n",
       ":   0.00452141\n",
       ":   0.00480442\n",
       ":   0.00543443\n",
       ":   0.00596244\n",
       ":   0.00650945\n",
       ":   0.00702346\n",
       ":   0.00773547\n",
       ":   0.00830848\n",
       ":   0.00875349\n",
       ":   0.0099650\n",
       ":   0.01114751\n",
       ":   0.01183652\n",
       ":   0.01289653\n",
       ":   0.01372754\n",
       ":   0.01487955\n",
       ":   0.01562356\n",
       ":   0.01718357\n",
       ":   0.01830258\n",
       ":   0.01919559\n",
       ":   0.02153660\n",
       ":   0.02255361\n",
       ":   0.02457962\n",
       ":   0.02638863\n",
       ":   0.02917164\n",
       ":   0.03170765\n",
       ":   0.03428866\n",
       ":   0.03749267\n",
       ":   0.04009868\n",
       ":   0.04491569\n",
       ":   0.04752370\n",
       ":   0.05245671\n",
       ":   0.0591972\n",
       ":   0.06491973\n",
       ":   0.06987774\n",
       ":   0.07769775\n",
       ":   0.08453676\n",
       ":   0.09431177\n",
       ":   0.10341378\n",
       ":   0.11132179\n",
       ":   0.12400380\n",
       ":   0.13832781\n",
       ":   0.14935482\n",
       ":   0.16576183\n",
       ":   0.18330284\n",
       ":   0.19661885\n",
       ":   0.21533286\n",
       ":   0.23314787\n",
       ":   0.25402688\n",
       ":   0.28498389\n",
       ":   0.29556990\n",
       ":   0.32563491\n",
       ":   0.3368692\n",
       ":   0.39796293\n",
       ":   0.40888394\n",
       ":   0.46587995\n",
       ":   0.42248596\n",
       ":   0.46014197\n",
       ":   0.43160898\n",
       ":   0.44619599\n",
       ":   0.611618100\n",
       ":   1.091252101\n",
       ":   0.956522102\n",
       ":   1.2103\n",
       ":   0.6104\n",
       ":   0105\n",
       ":   0106\n",
       ":   0107\n",
       ":   &lt;NA&gt;108\n",
       ":   &lt;NA&gt;109\n",
       ":   &lt;NA&gt;110+\n",
       ":   &lt;NA&gt;\n",
       "\n"
      ],
      "text/plain": [
       "       0        1        2        3        4        5        6        7 \n",
       "0.060585 0.005224 0.001988 0.001334 0.001071 0.000916 0.000772 0.000753 \n",
       "       8        9       10       11       12       13       14       15 \n",
       "0.000690 0.000692 0.000604 0.000670 0.000684 0.000712 0.000855 0.001052 \n",
       "      16       17       18       19       20       21       22       23 \n",
       "0.001088 0.001274 0.001345 0.001510 0.001551 0.001763 0.002021 0.001874 \n",
       "      24       25       26       27       28       29       30       31 \n",
       "0.002044 0.002131 0.002273 0.002364 0.002277 0.002445 0.002504 0.002578 \n",
       "      32       33       34       35       36       37       38       39 \n",
       "0.002821 0.002790 0.003155 0.003121 0.003167 0.003668 0.003770 0.004271 \n",
       "      40       41       42       43       44       45       46       47 \n",
       "0.004521 0.004804 0.005434 0.005962 0.006509 0.007023 0.007735 0.008308 \n",
       "      48       49       50       51       52       53       54       55 \n",
       "0.008753 0.009960 0.011147 0.011836 0.012896 0.013727 0.014879 0.015623 \n",
       "      56       57       58       59       60       61       62       63 \n",
       "0.017183 0.018302 0.019195 0.021536 0.022553 0.024579 0.026388 0.029171 \n",
       "      64       65       66       67       68       69       70       71 \n",
       "0.031707 0.034288 0.037492 0.040098 0.044915 0.047523 0.052456 0.059190 \n",
       "      72       73       74       75       76       77       78       79 \n",
       "0.064919 0.069877 0.077697 0.084536 0.094311 0.103413 0.111321 0.124003 \n",
       "      80       81       82       83       84       85       86       87 \n",
       "0.138327 0.149354 0.165761 0.183302 0.196618 0.215332 0.233147 0.254026 \n",
       "      88       89       90       91       92       93       94       95 \n",
       "0.284983 0.295569 0.325634 0.336860 0.397962 0.408883 0.465879 0.422485 \n",
       "      96       97       98       99      100      101      102      103 \n",
       "0.460141 0.431608 0.446195 0.611618 1.091252 0.956522 1.200000 0.600000 \n",
       "     104      105      106      107      108      109     110+ \n",
       "0.000000 0.000000 0.000000       NA       NA       NA       NA "
      ]
     },
     "metadata": {},
     "output_type": "display_data"
    }
   ],
   "source": [
    "# l'année 1950 pour les hommes\n",
    "france$rate$male[, \"1950\"]"
   ]
  },
  {
   "cell_type": "code",
   "execution_count": 20,
   "metadata": {},
   "outputs": [
    {
     "data": {
      "image/png": "[encoded data removed]",
      "text/plain": [
       "Plot with title \"taux de mortalité en fonction de l'âge pour l'année 1950\""
      ]
     },
     "metadata": {},
     "output_type": "display_data"
    }
   ],
   "source": [
    "# tracée de taux de mortalité en fonction de l’âge pour la cohorte 1950\n",
    "plot(x=france,series=\"male\",ages=france$age[0:110],year=1950,max.age=max(france$age),plot.type=\"functions\",main=\"taux de mortalité en fonction de l'âge pour l'année 1950\")"
   ]
  },
  {
   "cell_type": "markdown",
   "metadata": {},
   "source": [
    "- On remarque que ce taux est faible pour les jeunes âges et assez important pour les grandes tranches d'âges"
   ]
  },
  {
   "cell_type": "code",
   "execution_count": 23,
   "metadata": {},
   "outputs": [
    {
     "data": {
      "text/html": [
       "<dl class=dl-horizontal>\n",
       "\t<dt>0</dt>\n",
       "\t\t<dd>0.084792</dd>\n",
       "\t<dt>1</dt>\n",
       "\t\t<dd>0.013673</dd>\n",
       "\t<dt>2</dt>\n",
       "\t\t<dd>0.005142</dd>\n",
       "\t<dt>3</dt>\n",
       "\t\t<dd>0.003632</dd>\n",
       "\t<dt>4</dt>\n",
       "\t\t<dd>0.002813</dd>\n",
       "\t<dt>5</dt>\n",
       "\t\t<dd>0.00241</dd>\n",
       "\t<dt>6</dt>\n",
       "\t\t<dd>0.002042</dd>\n",
       "\t<dt>7</dt>\n",
       "\t\t<dd>0.001813</dd>\n",
       "\t<dt>8</dt>\n",
       "\t\t<dd>0.001576</dd>\n",
       "\t<dt>9</dt>\n",
       "\t\t<dd>0.001481</dd>\n",
       "\t<dt>10</dt>\n",
       "\t\t<dd>0.001326</dd>\n",
       "\t<dt>11</dt>\n",
       "\t\t<dd>0.001427</dd>\n",
       "\t<dt>12</dt>\n",
       "\t\t<dd>0.001284</dd>\n",
       "\t<dt>13</dt>\n",
       "\t\t<dd>0.00153</dd>\n",
       "\t<dt>14</dt>\n",
       "\t\t<dd>0.001832</dd>\n",
       "\t<dt>15</dt>\n",
       "\t\t<dd>0.002327</dd>\n",
       "\t<dt>16</dt>\n",
       "\t\t<dd>0.002636</dd>\n",
       "\t<dt>17</dt>\n",
       "\t\t<dd>0.00288</dd>\n",
       "\t<dt>18</dt>\n",
       "\t\t<dd>0.003825</dd>\n",
       "\t<dt>19</dt>\n",
       "\t\t<dd>0.004109</dd>\n",
       "\t<dt>20</dt>\n",
       "\t\t<dd>0.004302</dd>\n",
       "\t<dt>21</dt>\n",
       "\t\t<dd>0.005348</dd>\n",
       "\t<dt>22</dt>\n",
       "\t\t<dd>0.004854</dd>\n",
       "\t<dt>23</dt>\n",
       "\t\t<dd>0.004588</dd>\n",
       "\t<dt>24</dt>\n",
       "\t\t<dd>0.004726</dd>\n",
       "\t<dt>25</dt>\n",
       "\t\t<dd>0.004659</dd>\n",
       "\t<dt>26</dt>\n",
       "\t\t<dd>0.004781</dd>\n",
       "\t<dt>27</dt>\n",
       "\t\t<dd>0.004981</dd>\n",
       "\t<dt>28</dt>\n",
       "\t\t<dd>0.00513</dd>\n",
       "\t<dt>29</dt>\n",
       "\t\t<dd>0.005324</dd>\n",
       "\t<dt>30</dt>\n",
       "\t\t<dd>0.005956</dd>\n",
       "\t<dt>31</dt>\n",
       "\t\t<dd>0.006045</dd>\n",
       "\t<dt>32</dt>\n",
       "\t\t<dd>0.006248</dd>\n",
       "\t<dt>33</dt>\n",
       "\t\t<dd>0.006714</dd>\n",
       "\t<dt>34</dt>\n",
       "\t\t<dd>0.006718</dd>\n",
       "\t<dt>35</dt>\n",
       "\t\t<dd>0.007043</dd>\n",
       "\t<dt>36</dt>\n",
       "\t\t<dd>0.007649</dd>\n",
       "\t<dt>37</dt>\n",
       "\t\t<dd>0.008271</dd>\n",
       "\t<dt>38</dt>\n",
       "\t\t<dd>0.008397</dd>\n",
       "\t<dt>39</dt>\n",
       "\t\t<dd>0.008899</dd>\n",
       "\t<dt>40</dt>\n",
       "\t\t<dd>0.0095</dd>\n",
       "\t<dt>41</dt>\n",
       "\t\t<dd>0.009916</dd>\n",
       "\t<dt>42</dt>\n",
       "\t\t<dd>0.010051</dd>\n",
       "\t<dt>43</dt>\n",
       "\t\t<dd>0.010603</dd>\n",
       "\t<dt>44</dt>\n",
       "\t\t<dd>0.01085</dd>\n",
       "\t<dt>45</dt>\n",
       "\t\t<dd>0.012019</dd>\n",
       "\t<dt>46</dt>\n",
       "\t\t<dd>0.01245</dd>\n",
       "\t<dt>47</dt>\n",
       "\t\t<dd>0.013407</dd>\n",
       "\t<dt>48</dt>\n",
       "\t\t<dd>0.014694</dd>\n",
       "\t<dt>49</dt>\n",
       "\t\t<dd>0.015098</dd>\n",
       "\t<dt>50</dt>\n",
       "\t\t<dd>0.016136</dd>\n",
       "\t<dt>51</dt>\n",
       "\t\t<dd>0.01689</dd>\n",
       "\t<dt>52</dt>\n",
       "\t\t<dd>0.018163</dd>\n",
       "\t<dt>53</dt>\n",
       "\t\t<dd>0.018818</dd>\n",
       "\t<dt>54</dt>\n",
       "\t\t<dd>0.019858</dd>\n",
       "\t<dt>55</dt>\n",
       "\t\t<dd>0.0213</dd>\n",
       "\t<dt>56</dt>\n",
       "\t\t<dd>0.023481</dd>\n",
       "\t<dt>57</dt>\n",
       "\t\t<dd>0.024837</dd>\n",
       "\t<dt>58</dt>\n",
       "\t\t<dd>0.026059</dd>\n",
       "\t<dt>59</dt>\n",
       "\t\t<dd>0.02888</dd>\n",
       "\t<dt>60</dt>\n",
       "\t\t<dd>0.030712</dd>\n",
       "\t<dt>61</dt>\n",
       "\t\t<dd>0.032599</dd>\n",
       "\t<dt>62</dt>\n",
       "\t\t<dd>0.035381</dd>\n",
       "\t<dt>63</dt>\n",
       "\t\t<dd>0.037592</dd>\n",
       "\t<dt>64</dt>\n",
       "\t\t<dd>0.038975</dd>\n",
       "\t<dt>65</dt>\n",
       "\t\t<dd>0.043763</dd>\n",
       "\t<dt>66</dt>\n",
       "\t\t<dd>0.046477</dd>\n",
       "\t<dt>67</dt>\n",
       "\t\t<dd>0.051593</dd>\n",
       "\t<dt>68</dt>\n",
       "\t\t<dd>0.055078</dd>\n",
       "\t<dt>69</dt>\n",
       "\t\t<dd>0.060894</dd>\n",
       "\t<dt>70</dt>\n",
       "\t\t<dd>0.065896</dd>\n",
       "\t<dt>71</dt>\n",
       "\t\t<dd>0.071718</dd>\n",
       "\t<dt>72</dt>\n",
       "\t\t<dd>0.07848</dd>\n",
       "\t<dt>73</dt>\n",
       "\t\t<dd>0.087979</dd>\n",
       "\t<dt>74</dt>\n",
       "\t\t<dd>0.090512</dd>\n",
       "\t<dt>75</dt>\n",
       "\t\t<dd>0.104057</dd>\n",
       "\t<dt>76</dt>\n",
       "\t\t<dd>0.11214</dd>\n",
       "\t<dt>77</dt>\n",
       "\t\t<dd>0.124626</dd>\n",
       "\t<dt>78</dt>\n",
       "\t\t<dd>0.134639</dd>\n",
       "\t<dt>79</dt>\n",
       "\t\t<dd>0.149484</dd>\n",
       "\t<dt>80</dt>\n",
       "\t\t<dd>0.158951</dd>\n",
       "\t<dt>81</dt>\n",
       "\t\t<dd>0.174064</dd>\n",
       "\t<dt>82</dt>\n",
       "\t\t<dd>0.19588</dd>\n",
       "\t<dt>83</dt>\n",
       "\t\t<dd>0.206268</dd>\n",
       "\t<dt>84</dt>\n",
       "\t\t<dd>0.231802</dd>\n",
       "\t<dt>85</dt>\n",
       "\t\t<dd>0.246247</dd>\n",
       "\t<dt>86</dt>\n",
       "\t\t<dd>0.273386</dd>\n",
       "\t<dt>87</dt>\n",
       "\t\t<dd>0.293607</dd>\n",
       "\t<dt>88</dt>\n",
       "\t\t<dd>0.309303</dd>\n",
       "\t<dt>89</dt>\n",
       "\t\t<dd>0.333719</dd>\n",
       "\t<dt>90</dt>\n",
       "\t\t<dd>0.372964</dd>\n",
       "\t<dt>91</dt>\n",
       "\t\t<dd>0.363547</dd>\n",
       "\t<dt>92</dt>\n",
       "\t\t<dd>0.441752</dd>\n",
       "\t<dt>93</dt>\n",
       "\t\t<dd>0.474409</dd>\n",
       "\t<dt>94</dt>\n",
       "\t\t<dd>0.408587</dd>\n",
       "\t<dt>95</dt>\n",
       "\t\t<dd>0.459578</dd>\n",
       "\t<dt>96</dt>\n",
       "\t\t<dd>0.618004</dd>\n",
       "\t<dt>97</dt>\n",
       "\t\t<dd>0.656628</dd>\n",
       "\t<dt>98</dt>\n",
       "\t\t<dd>0.389273</dd>\n",
       "\t<dt>99</dt>\n",
       "\t\t<dd>0.903769</dd>\n",
       "\t<dt>100</dt>\n",
       "\t\t<dd>1.062673</dd>\n",
       "\t<dt>101</dt>\n",
       "\t\t<dd>1.207463</dd>\n",
       "\t<dt>102</dt>\n",
       "\t\t<dd>0.966784</dd>\n",
       "\t<dt>103</dt>\n",
       "\t\t<dd>0.798165</dd>\n",
       "\t<dt>104</dt>\n",
       "\t\t<dd>6</dd>\n",
       "\t<dt>105</dt>\n",
       "\t\t<dd>&lt;NA&gt;</dd>\n",
       "\t<dt>106</dt>\n",
       "\t\t<dd>&lt;NA&gt;</dd>\n",
       "\t<dt>107</dt>\n",
       "\t\t<dd>&lt;NA&gt;</dd>\n",
       "\t<dt>108</dt>\n",
       "\t\t<dd>&lt;NA&gt;</dd>\n",
       "\t<dt>109</dt>\n",
       "\t\t<dd>&lt;NA&gt;</dd>\n",
       "\t<dt>110+</dt>\n",
       "\t\t<dd>&lt;NA&gt;</dd>\n",
       "</dl>\n"
      ],
      "text/latex": [
       "\\begin{description*}\n",
       "\\item[0] 0.084792\n",
       "\\item[1] 0.013673\n",
       "\\item[2] 0.005142\n",
       "\\item[3] 0.003632\n",
       "\\item[4] 0.002813\n",
       "\\item[5] 0.00241\n",
       "\\item[6] 0.002042\n",
       "\\item[7] 0.001813\n",
       "\\item[8] 0.001576\n",
       "\\item[9] 0.001481\n",
       "\\item[10] 0.001326\n",
       "\\item[11] 0.001427\n",
       "\\item[12] 0.001284\n",
       "\\item[13] 0.00153\n",
       "\\item[14] 0.001832\n",
       "\\item[15] 0.002327\n",
       "\\item[16] 0.002636\n",
       "\\item[17] 0.00288\n",
       "\\item[18] 0.003825\n",
       "\\item[19] 0.004109\n",
       "\\item[20] 0.004302\n",
       "\\item[21] 0.005348\n",
       "\\item[22] 0.004854\n",
       "\\item[23] 0.004588\n",
       "\\item[24] 0.004726\n",
       "\\item[25] 0.004659\n",
       "\\item[26] 0.004781\n",
       "\\item[27] 0.004981\n",
       "\\item[28] 0.00513\n",
       "\\item[29] 0.005324\n",
       "\\item[30] 0.005956\n",
       "\\item[31] 0.006045\n",
       "\\item[32] 0.006248\n",
       "\\item[33] 0.006714\n",
       "\\item[34] 0.006718\n",
       "\\item[35] 0.007043\n",
       "\\item[36] 0.007649\n",
       "\\item[37] 0.008271\n",
       "\\item[38] 0.008397\n",
       "\\item[39] 0.008899\n",
       "\\item[40] 0.0095\n",
       "\\item[41] 0.009916\n",
       "\\item[42] 0.010051\n",
       "\\item[43] 0.010603\n",
       "\\item[44] 0.01085\n",
       "\\item[45] 0.012019\n",
       "\\item[46] 0.01245\n",
       "\\item[47] 0.013407\n",
       "\\item[48] 0.014694\n",
       "\\item[49] 0.015098\n",
       "\\item[50] 0.016136\n",
       "\\item[51] 0.01689\n",
       "\\item[52] 0.018163\n",
       "\\item[53] 0.018818\n",
       "\\item[54] 0.019858\n",
       "\\item[55] 0.0213\n",
       "\\item[56] 0.023481\n",
       "\\item[57] 0.024837\n",
       "\\item[58] 0.026059\n",
       "\\item[59] 0.02888\n",
       "\\item[60] 0.030712\n",
       "\\item[61] 0.032599\n",
       "\\item[62] 0.035381\n",
       "\\item[63] 0.037592\n",
       "\\item[64] 0.038975\n",
       "\\item[65] 0.043763\n",
       "\\item[66] 0.046477\n",
       "\\item[67] 0.051593\n",
       "\\item[68] 0.055078\n",
       "\\item[69] 0.060894\n",
       "\\item[70] 0.065896\n",
       "\\item[71] 0.071718\n",
       "\\item[72] 0.07848\n",
       "\\item[73] 0.087979\n",
       "\\item[74] 0.090512\n",
       "\\item[75] 0.104057\n",
       "\\item[76] 0.11214\n",
       "\\item[77] 0.124626\n",
       "\\item[78] 0.134639\n",
       "\\item[79] 0.149484\n",
       "\\item[80] 0.158951\n",
       "\\item[81] 0.174064\n",
       "\\item[82] 0.19588\n",
       "\\item[83] 0.206268\n",
       "\\item[84] 0.231802\n",
       "\\item[85] 0.246247\n",
       "\\item[86] 0.273386\n",
       "\\item[87] 0.293607\n",
       "\\item[88] 0.309303\n",
       "\\item[89] 0.333719\n",
       "\\item[90] 0.372964\n",
       "\\item[91] 0.363547\n",
       "\\item[92] 0.441752\n",
       "\\item[93] 0.474409\n",
       "\\item[94] 0.408587\n",
       "\\item[95] 0.459578\n",
       "\\item[96] 0.618004\n",
       "\\item[97] 0.656628\n",
       "\\item[98] 0.389273\n",
       "\\item[99] 0.903769\n",
       "\\item[100] 1.062673\n",
       "\\item[101] 1.207463\n",
       "\\item[102] 0.966784\n",
       "\\item[103] 0.798165\n",
       "\\item[104] 6\n",
       "\\item[105] <NA>\n",
       "\\item[106] <NA>\n",
       "\\item[107] <NA>\n",
       "\\item[108] <NA>\n",
       "\\item[109] <NA>\n",
       "\\item[110+] <NA>\n",
       "\\end{description*}\n"
      ],
      "text/markdown": [
       "0\n",
       ":   0.0847921\n",
       ":   0.0136732\n",
       ":   0.0051423\n",
       ":   0.0036324\n",
       ":   0.0028135\n",
       ":   0.002416\n",
       ":   0.0020427\n",
       ":   0.0018138\n",
       ":   0.0015769\n",
       ":   0.00148110\n",
       ":   0.00132611\n",
       ":   0.00142712\n",
       ":   0.00128413\n",
       ":   0.0015314\n",
       ":   0.00183215\n",
       ":   0.00232716\n",
       ":   0.00263617\n",
       ":   0.0028818\n",
       ":   0.00382519\n",
       ":   0.00410920\n",
       ":   0.00430221\n",
       ":   0.00534822\n",
       ":   0.00485423\n",
       ":   0.00458824\n",
       ":   0.00472625\n",
       ":   0.00465926\n",
       ":   0.00478127\n",
       ":   0.00498128\n",
       ":   0.0051329\n",
       ":   0.00532430\n",
       ":   0.00595631\n",
       ":   0.00604532\n",
       ":   0.00624833\n",
       ":   0.00671434\n",
       ":   0.00671835\n",
       ":   0.00704336\n",
       ":   0.00764937\n",
       ":   0.00827138\n",
       ":   0.00839739\n",
       ":   0.00889940\n",
       ":   0.009541\n",
       ":   0.00991642\n",
       ":   0.01005143\n",
       ":   0.01060344\n",
       ":   0.0108545\n",
       ":   0.01201946\n",
       ":   0.0124547\n",
       ":   0.01340748\n",
       ":   0.01469449\n",
       ":   0.01509850\n",
       ":   0.01613651\n",
       ":   0.0168952\n",
       ":   0.01816353\n",
       ":   0.01881854\n",
       ":   0.01985855\n",
       ":   0.021356\n",
       ":   0.02348157\n",
       ":   0.02483758\n",
       ":   0.02605959\n",
       ":   0.0288860\n",
       ":   0.03071261\n",
       ":   0.03259962\n",
       ":   0.03538163\n",
       ":   0.03759264\n",
       ":   0.03897565\n",
       ":   0.04376366\n",
       ":   0.04647767\n",
       ":   0.05159368\n",
       ":   0.05507869\n",
       ":   0.06089470\n",
       ":   0.06589671\n",
       ":   0.07171872\n",
       ":   0.0784873\n",
       ":   0.08797974\n",
       ":   0.09051275\n",
       ":   0.10405776\n",
       ":   0.1121477\n",
       ":   0.12462678\n",
       ":   0.13463979\n",
       ":   0.14948480\n",
       ":   0.15895181\n",
       ":   0.17406482\n",
       ":   0.1958883\n",
       ":   0.20626884\n",
       ":   0.23180285\n",
       ":   0.24624786\n",
       ":   0.27338687\n",
       ":   0.29360788\n",
       ":   0.30930389\n",
       ":   0.33371990\n",
       ":   0.37296491\n",
       ":   0.36354792\n",
       ":   0.44175293\n",
       ":   0.47440994\n",
       ":   0.40858795\n",
       ":   0.45957896\n",
       ":   0.61800497\n",
       ":   0.65662898\n",
       ":   0.38927399\n",
       ":   0.903769100\n",
       ":   1.062673101\n",
       ":   1.207463102\n",
       ":   0.966784103\n",
       ":   0.798165104\n",
       ":   6105\n",
       ":   &lt;NA&gt;106\n",
       ":   &lt;NA&gt;107\n",
       ":   &lt;NA&gt;108\n",
       ":   &lt;NA&gt;109\n",
       ":   &lt;NA&gt;110+\n",
       ":   &lt;NA&gt;\n",
       "\n"
      ],
      "text/plain": [
       "       0        1        2        3        4        5        6        7 \n",
       "0.084792 0.013673 0.005142 0.003632 0.002813 0.002410 0.002042 0.001813 \n",
       "       8        9       10       11       12       13       14       15 \n",
       "0.001576 0.001481 0.001326 0.001427 0.001284 0.001530 0.001832 0.002327 \n",
       "      16       17       18       19       20       21       22       23 \n",
       "0.002636 0.002880 0.003825 0.004109 0.004302 0.005348 0.004854 0.004588 \n",
       "      24       25       26       27       28       29       30       31 \n",
       "0.004726 0.004659 0.004781 0.004981 0.005130 0.005324 0.005956 0.006045 \n",
       "      32       33       34       35       36       37       38       39 \n",
       "0.006248 0.006714 0.006718 0.007043 0.007649 0.008271 0.008397 0.008899 \n",
       "      40       41       42       43       44       45       46       47 \n",
       "0.009500 0.009916 0.010051 0.010603 0.010850 0.012019 0.012450 0.013407 \n",
       "      48       49       50       51       52       53       54       55 \n",
       "0.014694 0.015098 0.016136 0.016890 0.018163 0.018818 0.019858 0.021300 \n",
       "      56       57       58       59       60       61       62       63 \n",
       "0.023481 0.024837 0.026059 0.028880 0.030712 0.032599 0.035381 0.037592 \n",
       "      64       65       66       67       68       69       70       71 \n",
       "0.038975 0.043763 0.046477 0.051593 0.055078 0.060894 0.065896 0.071718 \n",
       "      72       73       74       75       76       77       78       79 \n",
       "0.078480 0.087979 0.090512 0.104057 0.112140 0.124626 0.134639 0.149484 \n",
       "      80       81       82       83       84       85       86       87 \n",
       "0.158951 0.174064 0.195880 0.206268 0.231802 0.246247 0.273386 0.293607 \n",
       "      88       89       90       91       92       93       94       95 \n",
       "0.309303 0.333719 0.372964 0.363547 0.441752 0.474409 0.408587 0.459578 \n",
       "      96       97       98       99      100      101      102      103 \n",
       "0.618004 0.656628 0.389273 0.903769 1.062673 1.207463 0.966784 0.798165 \n",
       "     104      105      106      107      108      109     110+ \n",
       "6.000000       NA       NA       NA       NA       NA       NA "
      ]
     },
     "metadata": {},
     "output_type": "display_data"
    }
   ],
   "source": [
    "# l'année 1935 pour les hommes\n",
    "france$rate$male[, \"1935\"]"
   ]
  },
  {
   "cell_type": "code",
   "execution_count": 21,
   "metadata": {},
   "outputs": [
    {
     "data": {
      "image/png": "[encoded data removed]",
      "text/plain": [
       "Plot with title \"taux de mortalité en fonction de l'âge pour l'année 1935\""
      ]
     },
     "metadata": {},
     "output_type": "display_data"
    }
   ],
   "source": [
    "# tracée des taux de mortalité en fonction de l’âge pour la cohorte 1935\n",
    "plot(x=france,series=\"male\",ages=france$age[0:110],year=1935,max.age=max(france$age),plot.type=\"functions\",main=\"taux de mortalité en fonction de l'âge pour l'année 1935\")"
   ]
  },
  {
   "cell_type": "markdown",
   "metadata": {},
   "source": [
    "- On remarque que ce taux est faible pour les jeunes âges et assez important pour les grandes tranches d'âges"
   ]
  },
  {
   "cell_type": "code",
   "execution_count": 17,
   "metadata": {},
   "outputs": [
    {
     "data": {
      "image/png": "[encoded data removed]",
      "text/plain": [
       "Plot with title \"taux de mortalite pour les homme\""
      ]
     },
     "metadata": {},
     "output_type": "display_data"
    }
   ],
   "source": [
    "# taux mortalite pour les hommes en fpnction de l' âge\n",
    "plot(france,series=\"male\",datatype=\"rate\", main=\"taux de mortalité pour les homme en fonction de l'age\")"
   ]
  },
  {
   "cell_type": "markdown",
   "metadata": {},
   "source": [
    "- le tracé des log taux de mortalité en fonction de l’âge montre aussi que le taux de mortalité augmente avec l'age"
   ]
  },
  {
   "cell_type": "code",
   "execution_count": 7,
   "metadata": {},
   "outputs": [
    {
     "data": {
      "image/png": "[encoded data removed]",
      "text/plain": [
       "Plot with title \"taux de mortalite pour les homme en fonction des années\""
      ]
     },
     "metadata": {},
     "output_type": "display_data"
    }
   ],
   "source": [
    "#taux mortalite pour les hommes en fpnction en fonction des années\n",
    "\n",
    "plot(france,series=\"male\",datatype=\"rate\",plot.type=\"time\", main=\"taux de mortalite pour les homme en fonction des années\",xlab=\"Years\")\n",
    "legend(\"bottomright\",legend=unique(france$age),\n",
    "       col=rainbow(length(france$age)*1.25), ncol=20, pch=19, \n",
    "       title=\"age\", cex=0.4)"
   ]
  },
  {
   "cell_type": "markdown",
   "metadata": {},
   "source": [
    "- Le  tracé des log taux de mortalité en fonction des années confirment que la mortalité est en baisse à tous les âges avec un comportement différent selon les âges\n",
    "- les couleurs representesnt les ages de moins eleves au nplus eleves , on peut remarquer que ce taux est faible pour les tranches d'ages jeunes et diminuent au cours du temps ainsi pour les personnes agees ce taux augmante de pmus en plus"
   ]
  },
  {
   "cell_type": "markdown",
   "metadata": {},
   "source": [
    "### Question 2 : En utilisant la procédure vue en cours pour estimer les taux de mortalité par maximum de vraisemblance,tracer les taux de mortalité en fonction de l’âge pour les deux cohortes concernées, pour les âges à partirde 60 ans. Tracer également les intervalles de confiance au seuil de 99%."
   ]
  },
  {
   "cell_type": "code",
   "execution_count": 9,
   "metadata": {},
   "outputs": [
    {
     "name": "stderr",
     "output_type": "stream",
     "text": [
      "Installing package into 'C:/Users/NawreS/Documents/R/win-library/3.6'\n",
      "(as 'lib' is unspecified)\n",
      "Warning message:\n",
      "\"package 'fitdistrplus' is in use and will not be installed\""
     ]
    }
   ],
   "source": [
    "install.packages(\"fitdistrplus\")"
   ]
  },
  {
   "cell_type": "code",
   "execution_count": 14,
   "metadata": {},
   "outputs": [
    {
     "data": {
      "image/png": "[encoded data removed]",
      "text/plain": [
       "Plot with title \"France: Cohort 1935\""
      ]
     },
     "metadata": {},
     "output_type": "display_data"
    },
    {
     "data": {
      "image/png": "[encoded data removed]",
      "text/plain": [
       "Plot with title \"France: Cohort 1950\""
      ]
     },
     "metadata": {},
     "output_type": "display_data"
    }
   ],
   "source": [
    "\n",
    "france.smth.m <- smooth.demogdata(france, method=\"mspline\")\n",
    "\n",
    "cohort <- function(year, rates, log=FALSE)\n",
    "{\n",
    "  xg <- diag(rates[, colnames(rates) >= year])\n",
    "  names(xg) <- paste(year, rownames(rates)[1:length(xg)], sep=\"-x=\")\n",
    "  if(log)\n",
    "    xg <- log(xg)\n",
    "  xg\n",
    "}\n",
    "\n",
    "x=cohort(1935,france.smth.m$rate$male,log=T)\n",
    "x1=cohort(1950,france.smth.m$rate$male,log=T)\n",
    "\n",
    "\n",
    "\n",
    "# intervalle de confiance\n",
    "res35=t.test(x,conf.level = 0.99)\n",
    "res50=t.test(x1,conf.level = 0.99)\n",
    "\n",
    "\n",
    "ect35=sd(x)\n",
    "\n",
    "ect50=sd(x1)\n",
    "\n",
    "moy_emp35=mean(x)\n",
    "moy_emp50=mean(x1)\n",
    "\n",
    "\n",
    "IC_inf35 = moy_emp35-2.576*ect35/sqrt(2)\n",
    "IC_inf50 = moy_emp50-2.576*ect50/sqrt(2)\n",
    "\n",
    "IC_sup35 = moy_emp35+2.576*ect35/sqrt(2)\n",
    "IC_sup50 = moy_emp50+2.576*ect50/sqrt(2)\n",
    "\n",
    "IC35=c(IC_inf35,IC_sup35)\n",
    "IC50=c(IC_inf50,IC_sup50)\n",
    "\n",
    "###1935\n",
    "plot(cohort(1935, france.smth.m$rate$male, log=T),col=\"red\", type=\"l\",ylim=c(-11,4), main=\"France: Cohort 1935\",xlab=\"age\")\n",
    "abline(h=moy_emp35,col=\"black\",lwd=3, lty=2)\n",
    "abline(h=IC_inf35,col=\"green\",lwd=3, lty=2)\n",
    "abline(h=IC_sup35,col=\"green\",lwd=3, lty=2)\n",
    "\n",
    "###1950\n",
    "plot(cohort(1950, france.smth.m$rate$male, log=T),col=\"blue\", type=\"l\",ylim=c(-11,4), main=\"France: Cohort 1950\",xlab=\"age\")\n",
    "abline(h=moy_emp50,col=\"black\",lwd=3, lty=2)\n",
    "abline(h=IC_inf50,col=\"green\",lwd=3, lty=2)\n",
    "abline(h=IC_sup50,col=\"green\",lwd=3, lty=2)"
   ]
  },
  {
   "cell_type": "markdown",
   "metadata": {},
   "source": [
    "### Question 3: Estimer les paramètres d’un modèle de Lee-Carter à partir des données historiques téléchargées (on pourra utiliser la fonction fit du package StMoMo). On prendra bien soin de:\n",
    " - Lee Carter: une méthode d’extrapolation des tendances passées\n",
    " "
   ]
  },
  {
   "cell_type": "markdown",
   "metadata": {},
   "source": [
    "### - Commenter/justifier le choix de la plage d’âge et de la période choisie pour calibrer les données."
   ]
  },
  {
   "cell_type": "markdown",
   "metadata": {},
   "source": [
    "### *Choix de la plage d'age:\n",
    "- le modèle Lee Carter se base sur l’hypothèse d’homoscédasticité des taux de mortalité: pour les âges éléves le nombre d’observation est plus réduit et le log de la force de mortalité est donc plus variable.D'ou On a choisie comme plage d'age de 0 a 65ans."
   ]
  },
  {
   "cell_type": "markdown",
   "metadata": {},
   "source": [
    "### *Choix de la période choisie:"
   ]
  },
  {
   "cell_type": "markdown",
   "metadata": {},
   "source": [
    "### - Ajustement des parametres Kt:"
   ]
  },
  {
   "cell_type": "code",
   "execution_count": 22,
   "metadata": {},
   "outputs": [],
   "source": [
    "franceMale <- StMoMoData(france, series = \"male\")"
   ]
  },
  {
   "cell_type": "code",
   "execution_count": 5,
   "metadata": {},
   "outputs": [],
   "source": [
    "france.smth.m <- smooth.demogdata(france, method=\"mspline\")\n",
    "frlc.none <- lca(france.smth.m, adjust=\"none\",series=\"male\")\n",
    "frlc.dt <- lca(france.smth.m, adjust=\"dt\",series=\"male\")\n",
    "frlc.dxt <- lca(france.smth.m, adjust=\"dxt\",series=\"male\")\n",
    "frlc.e0 <- lca(france.smth.m, adjust=\"e0\",series=\"male\")"
   ]
  },
  {
   "cell_type": "code",
   "execution_count": 40,
   "metadata": {},
   "outputs": [
    {
     "data": {
      "image/png": "[encoded data removed]",
      "text/plain": [
       "plot without title"
      ]
     },
     "metadata": {},
     "output_type": "display_data"
    }
   ],
   "source": [
    "par(mfrow=c(1,1))\n",
    "plot(frlc.none$kt,col=\"black\")\n",
    "lines(frlc.dt$kt,col=\"blue\")\n",
    "lines(frlc.dxt$kt,col=\"red\")\n",
    "lines(frlc.e0$kt,col=\"green\")\n",
    "legend(\"topright\" , c(\"none\",\"dt\",\"dxt\",\"e0\"), cex=0.8,col=c(\"black\",\"blue\",\"red\",\"green\"),lty=1);"
   ]
  },
  {
   "cell_type": "markdown",
   "metadata": {},
   "source": [
    "- La valeur kt est stable avant 1900 puis elle baisse au cours du temps ,on peut expliquer ce phénomene par les trois grandes guerres auxquelles la France a participé et qui présentent des pics de kt. \n",
    "- On constate qu'aprés l'année 1945(le dernier pic des valeurs de Kt et la 2ème guerre mondiale),l'existance d'une forte diminution des estimations de kt . C'est pour cela nous allons restreindre notre étude aux années 1946 - 2017( fin des observations)."
   ]
  },
  {
   "cell_type": "markdown",
   "metadata": {},
   "source": [
    "### Applicatuon de Lee-Carter:"
   ]
  },
  {
   "cell_type": "code",
   "execution_count": 23,
   "metadata": {},
   "outputs": [
    {
     "name": "stderr",
     "output_type": "stream",
     "text": [
      "Warning message in fit.StMoMo(LC1, data = FRStMoMo, ages.fit = 0:65, years = 1946:2017):\n",
      "\"logit-Binomial model fitted to central exposure data\n",
      "\""
     ]
    },
    {
     "name": "stdout",
     "output_type": "stream",
     "text": [
      "StMoMo: Start fitting with gnm\n",
      "Initialising\n",
      "Running start-up iterations..\n",
      "Running main iterations............................\n",
      "Done\n",
      "StMoMo: Finish fitting with gnm\n"
     ]
    },
    {
     "data": {
      "image/png": "[encoded data removed]",
      "text/plain": [
       "Plot with title \"paste\"Plot with title \"kappa[t]^{\n",
       "    (1)\n",
       "}\"Plot with title \" vs. t\"Plot with title \"\""
      ]
     },
     "metadata": {},
     "output_type": "display_data"
    }
   ],
   "source": [
    "france46_2017 <- extract.years(france, years=1946:2017) #extraire la periode\n",
    "FRStMoMo <- StMoMoData(france, series = \"male\") #charger les données des hommes pour le package StMoMo\n",
    "LC1 <- lc(link=\"logit\")\n",
    "LCfit1<-fit(LC1, data = FRStMoMo,ages.fit = 0:65,years = 1946:2017 )\n",
    "plot(LCfit1)\n",
    "\n",
    "\n",
    "\n"
   ]
  },
  {
   "cell_type": "markdown",
   "metadata": {},
   "source": [
    "### - Commenter les résultats obtenus en affichant les paramètres estimés."
   ]
  },
  {
   "cell_type": "markdown",
   "metadata": {},
   "source": [
    "Ax est liée à l'effet de l'âge sur les taux de mortalité:\n",
    "* On observe une fonction décroissante de ce taux au niveau de la plage d'âge 0-10 puis croissante pour les adolescents(de 10 à 20) ensuite pour la tranche du 20 à 30 il y a une augmentation du taux lié aux accidents enfin on a une fonction croissante jusqu'à la fin  de la vie"
   ]
  },
  {
   "cell_type": "markdown",
   "metadata": {},
   "source": [
    "Kt Evolution temporelle du taux de mortalité :  \n",
    "* On observe que Kt a une tendance à la baisse avec l'augmentation du temps de 1946 à 2017.                                                                             \n",
    "Bx : Vitesse de reduction de la mortalite par âge: \n",
    "* Bx est toujours positif mais la valeur ne cesse de diminuer avec l’âge."
   ]
  },
  {
   "cell_type": "markdown",
   "metadata": {},
   "source": [
    "### -Evaluation l'ajustement du modèle : "
   ]
  },
  {
   "cell_type": "code",
   "execution_count": 89,
   "metadata": {},
   "outputs": [
    {
     "data": {
      "image/png": "[encoded data removed]",
      "text/plain": [
       "plot without title"
      ]
     },
     "metadata": {},
     "output_type": "display_data"
    }
   ],
   "source": [
    "LCresT <- residuals(LCfit1)\n",
    "plot(LCresT)"
   ]
  },
  {
   "cell_type": "markdown",
   "metadata": {},
   "source": [
    "- D’après la lecture des graphiques nous remarquons que les résidus du modèle sont identiquement distribués selon l’âge et l’année autour de la droite horizontale passant par 0. Ceci montre bien que l’espérance des erreurs est bien nulle et que la variance est constante ce qui confirme l’homoscédasticité des taux de mortalité supposée initialement. "
   ]
  },
  {
   "cell_type": "markdown",
   "metadata": {},
   "source": [
    "#### Question 4: Afficher les log taux de mortalités historiques des deux cohortes à l’aide de la fonction extractcohort, et comparer avec les taux estimés en question 1."
   ]
  },
  {
   "cell_type": "code",
   "execution_count": 24,
   "metadata": {},
   "outputs": [
    {
     "data": {
      "image/png": "[encoded data removed]",
      "text/plain": [
       "Plot with title \"Mortality rates for the 1950 cohort\""
      ]
     },
     "metadata": {},
     "output_type": "display_data"
    }
   ],
   "source": [
    "#cohorte d’assurés hommes nés en 1950 contractés un contrat en 2015:\n",
    "chosen_cohort=1950      \n",
    "plot(0:65, extractCohort(fitted(LCfit1, type = \"rates\"),  \n",
    "                        cohort = chosen_cohort),\n",
    "     type = \"l\", log = \"y\", xlab = \"age\", ylab  = \"Mortality rate\",\n",
    "     main = \"Mortality rates for the 1950 cohort\",\n",
    "     xlim = c(0,65),ylim = c(5e-04, 0.07))\n",
    "\n"
   ]
  },
  {
   "cell_type": "code",
   "execution_count": 25,
   "metadata": {},
   "outputs": [
    {
     "data": {
      "image/png": "[encoded data removed]",
      "text/plain": [
       "Plot with title \"Mortality rates for the 1935 cohort\""
      ]
     },
     "metadata": {},
     "output_type": "display_data"
    }
   ],
   "source": [
    "#les log taux de mortalités historiques de la cohorte d’assurés hommes nés en 1935 ayant contractés un contrat en 2000:\n",
    "plot(0:65, extractCohort(fitted(LCfit1, type = \"rates\"), cohort = 1935), \n",
    "     type = \"l\", log = \"y\", xlab = \"age\", ylab = \"Mortality rate\", \n",
    "     main = \"Mortality rates for the 1935 cohort\", \n",
    "     xlim = c(0,65), ylim = c(5e-04, 0.07))"
   ]
  },
  {
   "cell_type": "markdown",
   "metadata": {},
   "source": [
    "### Question 5: Simuler un nombre N=5000 de trajectoires projetées sur 25 ans des taux de mortalité futurs à l’aide de la fonction simulate. Afficher les log taux de mortalités historiques et projetés pour les deux cohortes, à partirde la date de début du contrat."
   ]
  },
  {
   "cell_type": "markdown",
   "metadata": {},
   "source": [
    "- Simulation de N=5000 de trajectoires projetées sur 25 ans des taux de mortalité futurs"
   ]
  },
  {
   "cell_type": "code",
   "execution_count": 26,
   "metadata": {},
   "outputs": [
    {
     "data": {
      "image/png": "[encoded data removed]",
      "text/plain": [
       "Plot with title \"Affichage de taux de mortalité historique et projetée \n",
       " pour la cohorte 1950\""
      ]
     },
     "metadata": {},
     "output_type": "display_data"
    }
   ],
   "source": [
    "LCsim1950 <- simulate(LCfit1, nsim=5000, h=25, cohort = 1950)\n",
    "plot(LCfit1$years, LCfit1$kt[1,],xlim=c(2015,2040), ylim=c(-255,255),\n",
    "     type=\"l\", xlab=\"year\", ylab=\"kt\",\n",
    "     main=\"Affichage de taux de mortalité historique et projetée \\n pour la cohorte 1950\")\n",
    "matlines(LCsim1950$kt.s$years, LCsim1950$kt.s$sim[1,,1:20],\n",
    "         type=\"l\", lty=1)"
   ]
  },
  {
   "cell_type": "code",
   "execution_count": 27,
   "metadata": {},
   "outputs": [
    {
     "data": {
      "image/png": "[encoded data removed]",
      "text/plain": [
       "Plot with title \"Affichage de taux de mortalité historique et projetée \n",
       " pour la cohorte  1935\""
      ]
     },
     "metadata": {},
     "output_type": "display_data"
    }
   ],
   "source": [
    "#2 éme cohort d’assurés hommes nés en 1935 ayant contractés un contrat en 2000\n",
    "LCsim1935 <- simulate(LCfit1, nsim=5000, h=25,cohort=1935) #Simulation d'un nombre N=5000 de trajectoires projetées sur 25 ans des taux de mortalité futurs\n",
    "#les log taux de mortalités historiques et projetés pour cette cohorte, à partir de la date de début du contrat 2000\n",
    "plot(LCfit1$years, LCfit1$kt[1,],xlim=c(2000,2025), ylim=c(-255,200),\n",
    "     type=\"l\", xlab=\"year\", ylab=\"kt\",\n",
    "     main=\"Affichage de taux de mortalité historique et projetée \\n pour la cohorte  1935\")\n",
    "matlines(LCsim1935$kt.s$years, LCsim1935$kt.s$sim[1,,1:20],\n",
    "         type=\"l\", lty=1)"
   ]
  },
  {
   "cell_type": "markdown",
   "metadata": {},
   "source": [
    "- On remarque pour les 25 trajectoires, que l'évolution temporelle du taux de mortalité diminue au cours du temps pour les 2 cohortes"
   ]
  },
  {
   "cell_type": "markdown",
   "metadata": {},
   "source": [
    "### Question 6: Calculer la valeur actuelle probable des deux contrats (à la date de début du contrat) pour chacun des scénarios de mortalité générés à la question précédente. Donner la valeur moyenne obtenue et sa variance.\n",
    "### - Proposer une tarification pour chaque produit."
   ]
  },
  {
   "cell_type": "code",
   "execution_count": 11,
   "metadata": {},
   "outputs": [
    {
     "name": "stderr",
     "output_type": "stream",
     "text": [
      "Installing package into 'C:/Users/NawreS/Documents/R/win-library/3.6'\n",
      "(as 'lib' is unspecified)\n"
     ]
    },
    {
     "name": "stdout",
     "output_type": "stream",
     "text": [
      "package 'lifecontingencies' successfully unpacked and MD5 sums checked\n",
      "\n",
      "The downloaded binary packages are in\n",
      "\tC:\\Users\\NawreS\\AppData\\Local\\Temp\\Rtmp8KnkMD\\downloaded_packages\n"
     ]
    }
   ],
   "source": [
    "install.packages('lifecontingencies')"
   ]
  },
  {
   "cell_type": "code",
   "execution_count": 28,
   "metadata": {},
   "outputs": [
    {
     "name": "stderr",
     "output_type": "stream",
     "text": [
      "Warning message:\n",
      "\"package 'lifecontingencies' was built under R version 3.6.3\"Package:  lifecontingencies\n",
      "Authors:  Giorgio Alfredo Spedicato [aut, cre]\n",
      "    (<https://orcid.org/0000-0002-0315-8888>),\n",
      "  Christophe Dutang [ctb] (<https://orcid.org/0000-0001-6732-1501>),\n",
      "  Reinhold Kainhofer [ctb] (<https://orcid.org/0000-0002-7895-1311>),\n",
      "  Kevin J Owens [ctb],\n",
      "  Ernesto Schirmacher [ctb],\n",
      "  Gian Paolo Clemente [ctb] (<https://orcid.org/0000-0001-6795-4595>),\n",
      "  Ivan Williams [ctb]\n",
      "Version:  1.3.6\n",
      "Date:     2019-03-05 23:50:03 UTC\n",
      "BugReport: http://github.com/spedygiorgio/lifecontingencies/issues\n",
      "\n"
     ]
    }
   ],
   "source": [
    "library(lifecontingencies)"
   ]
  },
  {
   "cell_type": "markdown",
   "metadata": {},
   "source": [
    "- La rente viagère c'est l'abandon d un capital au profil de l'assureur en échange d'un versement régulier et à vie d'une somme qui sera revalorisé  au fil des années.on parle de la conversion d'un capital en rente viagère.au décès du bénéficiaire,le versement de la rente est généralement arrêté.\n",
    "- Elle est servie tant que le bénéficaire est en vie\n",
    "- La valeur Acutelle probable d'une rente viagère versée à terme échu : ax = sum(Ex) de i=1 jusq'au +oo  "
   ]
  },
  {
   "cell_type": "markdown",
   "metadata": {},
   "source": [
    "- valeur Acutelle probable pour la  cohorte 1950:"
   ]
  },
  {
   "cell_type": "code",
   "execution_count": 29,
   "metadata": {},
   "outputs": [],
   "source": [
    "#la valeur actuelle probable pour les taux projetees de la cohorte 1950:\n",
    "set.seed(29)\n",
    "lc_historical_rates <- extractCohort(fitted(LCfit1, type = \"rates\"),cohort = 1950)\n",
    "\n",
    "lc_rates_1950 <- c(lc_historical_rates,LCsim1950$rates)\n",
    "\n",
    "lc_qx_1950<-mx2qx(lc_rates_1950)\n",
    "#transformation en lifetable:\n",
    "lc_lifetable_1950<-probs2lifetable(probs=lc_qx_1950,type = \"qx\",\n",
    "  name = paste(\"LC\",\"1950\",\"lt\",sep=\"_\"))\n",
    "\n",
    "lc_acttbl_1950<-new(\"actuarialtable\",x=lc_lifetable_1950@x,lx=lc_lifetable_1950@lx,name=\"LC ActTbl\")\n",
    "VAP_proj_1950=axn(actuarialtable = lc_acttbl_1950,x=65)"
   ]
  },
  {
   "cell_type": "code",
   "execution_count": 14,
   "metadata": {},
   "outputs": [
    {
     "data": {
      "text/html": [
       "32.3584610012781"
      ],
      "text/latex": [
       "32.3584610012781"
      ],
      "text/markdown": [
       "32.3584610012781"
      ],
      "text/plain": [
       "[1] 32.35846"
      ]
     },
     "metadata": {},
     "output_type": "display_data"
    }
   ],
   "source": [
    "VAP_proj_1950"
   ]
  },
  {
   "cell_type": "markdown",
   "metadata": {},
   "source": [
    "- valeur Acutelle probable pour la cohorte 1935:\n"
   ]
  },
  {
   "cell_type": "code",
   "execution_count": 15,
   "metadata": {},
   "outputs": [],
   "source": [
    "#la valeur actuelle probable pour les taux projetees de la cohorte 1950:\n",
    "set.seed(29)\n",
    "lc_historical_rates <- extractCohort(fitted(LCfit1, type = \"rates\"),cohort = 1935)\n",
    "\n",
    "lc_rates_1935 <- c(lc_historical_rates,LCsim1935$rates)\n",
    "\n",
    "lc_qx_1935<-mx2qx(lc_rates_1935)\n",
    "#transformation en lifetable:\n",
    "lc_lifetable_1935<-probs2lifetable(probs=lc_qx_1935,type = \"qx\",\n",
    "  name = paste(\"LC\",\"1935\",\"lt\",sep=\"_\"))\n",
    "\n",
    "lc_acttbl_1935<-new(\"actuarialtable\",x=lc_lifetable_1935@x,lx=lc_lifetable_1935@lx,name=\"LC ActTbl\")\n",
    "VAP_proj_1935=axn(actuarialtable = lc_acttbl_1935,x=65)"
   ]
  },
  {
   "cell_type": "code",
   "execution_count": 23,
   "metadata": {},
   "outputs": [
    {
     "data": {
      "text/html": [
       "32.4276698890751"
      ],
      "text/latex": [
       "32.4276698890751"
      ],
      "text/markdown": [
       "32.4276698890751"
      ],
      "text/plain": [
       "[1] 32.42767"
      ]
     },
     "metadata": {},
     "output_type": "display_data"
    }
   ],
   "source": [
    "VAP_proj_1935"
   ]
  },
  {
   "cell_type": "markdown",
   "metadata": {},
   "source": [
    "- La Valeur Moyenne Obtenue :"
   ]
  },
  {
   "cell_type": "code",
   "execution_count": 220,
   "metadata": {},
   "outputs": [],
   "source": [
    "moyenne = mean(VAP_proj_1935,VAP_proj_1950)"
   ]
  },
  {
   "cell_type": "code",
   "execution_count": 221,
   "metadata": {},
   "outputs": [
    {
     "data": {
      "text/html": [
       "32.2672229834337"
      ],
      "text/latex": [
       "32.2672229834337"
      ],
      "text/markdown": [
       "32.2672229834337"
      ],
      "text/plain": [
       "[1] 32.26722"
      ]
     },
     "metadata": {},
     "output_type": "display_data"
    }
   ],
   "source": [
    "moyenne"
   ]
  },
  {
   "cell_type": "markdown",
   "metadata": {},
   "source": [
    "- La Variance Obtenue:"
   ]
  },
  {
   "cell_type": "code",
   "execution_count": 224,
   "metadata": {},
   "outputs": [],
   "source": [
    "variance = var(VAP_hist_1950,VAP_proj_1935)"
   ]
  },
  {
   "cell_type": "code",
   "execution_count": 236,
   "metadata": {},
   "outputs": [
    {
     "data": {
      "text/html": [
       "&lt;NA&gt;"
      ],
      "text/latex": [
       "<NA>"
      ],
      "text/markdown": [
       "&lt;NA&gt;"
      ],
      "text/plain": [
       "[1] NA"
      ]
     },
     "metadata": {},
     "output_type": "display_data"
    }
   ],
   "source": [
    "variance"
   ]
  },
  {
   "cell_type": "markdown",
   "metadata": {},
   "source": [
    "- Tarification:"
   ]
  },
  {
   "cell_type": "markdown",
   "metadata": {},
   "source": [
    "- Pour cohorte 1950 ayant un contrat en 2015:"
   ]
  },
  {
   "cell_type": "code",
   "execution_count": 19,
   "metadata": {},
   "outputs": [],
   "source": [
    "#Calcul de la prime pure :\n",
    "#pour les parametres :\n",
    "# x : Âge de l'assuré en 2015 \n",
    "#m : Report de la période : \n",
    "#n : Période de couverture : dans notre cas égale a 25 puisque on a fait une projection de 25 ans pour cette cohorte \n",
    "prime_pure_coh_2015 = axn(lc_acttbl_1950, x=65, m=25)/axn(lc_acttbl_1950, x=65, m=1,n=25)\n"
   ]
  },
  {
   "cell_type": "code",
   "execution_count": 20,
   "metadata": {},
   "outputs": [
    {
     "data": {
      "text/html": [
       "0.870697110622523"
      ],
      "text/latex": [
       "0.870697110622523"
      ],
      "text/markdown": [
       "0.870697110622523"
      ],
      "text/plain": [
       "[1] 0.8706971"
      ]
     },
     "metadata": {},
     "output_type": "display_data"
    }
   ],
   "source": [
    "prime_pure_coh_2015 "
   ]
  },
  {
   "cell_type": "markdown",
   "metadata": {},
   "source": [
    "- Pour cohorte 1935 ayant un contrat en 2000:"
   ]
  },
  {
   "cell_type": "code",
   "execution_count": 21,
   "metadata": {},
   "outputs": [],
   "source": [
    "#Calcul de la prime pure :\n",
    "#pour les parametres :\n",
    "# x : Âge de l'assuré en 2000 \n",
    "#m : Report de la période : \n",
    "#n : Période de couverture : dans notre cas égale a 25 puisque on a fait une projection de 25 ans pour cette cohorte \n",
    "prime_pure_coh_2000 = axn(lc_acttbl_1935, x=65, m=25)/axn(lc_acttbl_1935, x=65, m=1,n=25)"
   ]
  },
  {
   "cell_type": "code",
   "execution_count": 22,
   "metadata": {},
   "outputs": [
    {
     "data": {
      "text/html": [
       "0.876250922593048"
      ],
      "text/latex": [
       "0.876250922593048"
      ],
      "text/markdown": [
       "0.876250922593048"
      ],
      "text/plain": [
       "[1] 0.8762509"
      ]
     },
     "metadata": {},
     "output_type": "display_data"
    }
   ],
   "source": [
    "prime_pure_coh_2000 "
   ]
  },
  {
   "cell_type": "markdown",
   "metadata": {},
   "source": [
    "### Question 7: Interpréter la différence obtenue selon les deux cohortes."
   ]
  },
  {
   "cell_type": "markdown",
   "metadata": {},
   "source": [
    "- On peut constater que la valeur actuelle probable et la tarification ont presque les memes valeurs quelque soit la cohorte donc on peut dire que la tarification ne depnds pas d'une telle cohorte mais elle depend de l'age a la date de debut de contrat ."
   ]
  },
  {
   "cell_type": "markdown",
   "metadata": {},
   "source": [
    "### Question 8 : Quelles sont les autres sources d’incertitudes ? Développer cette question."
   ]
  },
  {
   "cell_type": "markdown",
   "metadata": {},
   "source": [
    "- Sources d'incertitudes:\n",
    "\n",
    "-- limites Lee Carter:\n",
    "\n",
    "\n",
    "* l’hypothèse d'homoscédasticité des erreurs requise pour l'estimation par moindres carrés n'est pas vérifiée  car la variance de log taux de mortalité augmente  aux âges élevés vu la baisse des du nombre des individus à ces âges.\n",
    "* Lee-carter classique sert à calculer dans le futur des tendances conclues du passé en utilisant un seul paramètre temporel ce qui peut être rigide dans certaines cas.\n",
    "* pour lee carter la sensibilité de la mortalité βx est considéré constante au cours du temps ce qui signifie que l amélioration de la mortalité est la même au cours du temps quelles que soient les dates.\n",
    "\n",
    "\n",
    "\n",
    "-- limites Simulations:\n",
    "\n",
    "* si la simulation n'est pas bien faite,ceci peut entraîner des erreurs de projections et le calcul d'indicateurs comme l'espérance de vie serait imprécis."
   ]
  }
 ],
 "metadata": {
  "kernelspec": {
   "display_name": "R",
   "language": "R",
   "name": "ir"
  },
  "language_info": {
   "codemirror_mode": "r",
   "file_extension": ".r",
   "mimetype": "text/x-r-source",
   "name": "R",
   "pygments_lexer": "r",
   "version": "3.6.1"
  }
 },
 "nbformat": 4,
 "nbformat_minor": 4
}
